{
 "cells": [
  {
   "cell_type": "code",
   "execution_count": 1,
   "metadata": {
    "collapsed": true
   },
   "outputs": [
    {
     "name": "stdout",
     "output_type": "stream",
     "text": [
      "(0, 0, 1950, 81)\n"
     ]
    }
   ],
   "source": [
    "#import the relevant sql library\n",
    "from sqlalchemy import create_engine\n",
    "import pandas as pd\n",
    "import config\n",
    "\n",
    "db = config.database_uri\n",
    "# link to your database\n",
    "engine = create_engine(db, echo = False)\n",
    "# attach the data frame (df) to the database with a name of the\n",
    "# table; the name can be whatever you like\n",
    "df = pd.read_csv('num_of_drivers_by_season.csv')\n",
    "df.to_sql('drivers_by_season', con = engine, if_exists='append')\n",
    "# run a quick test\n",
    "print(engine.execute(\"SELECT * FROM drivers_by_season\").fetchone())"
   ]
  },
  {
   "cell_type": "code",
   "execution_count": null,
   "outputs": [],
   "source": [],
   "metadata": {
    "collapsed": false,
    "pycharm": {
     "name": "#%%\n"
    }
   }
  }
 ],
 "metadata": {
  "kernelspec": {
   "display_name": "Python 3",
   "language": "python",
   "name": "python3"
  },
  "language_info": {
   "codemirror_mode": {
    "name": "ipython",
    "version": 2
   },
   "file_extension": ".py",
   "mimetype": "text/x-python",
   "name": "python",
   "nbconvert_exporter": "python",
   "pygments_lexer": "ipython2",
   "version": "2.7.6"
  }
 },
 "nbformat": 4,
 "nbformat_minor": 0
}